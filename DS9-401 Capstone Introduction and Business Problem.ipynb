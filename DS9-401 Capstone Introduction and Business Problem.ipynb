{
 "cells": [
  {
   "cell_type": "markdown",
   "metadata": {},
   "source": [
    "# DS9-401 Capstone Introduction/Business Problem and Data\n",
    "# Define the problem and the target audience"
   ]
  },
  {
   "cell_type": "markdown",
   "metadata": {},
   "source": [
    "#### Import all libraries so the code to illustrate issues works throughout the notebook "
   ]
  },
  {
   "cell_type": "code",
   "execution_count": 8,
   "metadata": {},
   "outputs": [],
   "source": [
    "import pandas as pd"
   ]
  },
  {
   "cell_type": "markdown",
   "metadata": {},
   "source": [
    "## Task\n",
    "Clearly define a problem or an idea of your choice, where you would need to leverage the Foursquare location data to solve or execute. Remember that data science problems always target an audience and are meant to help a group of stakeholders solve a problem, so make sure that you explicitly describe your audience and why they would care about your problem.\n",
    "\n",
    "This submission will eventually become your Introduction/Business Problem section in your final report. So I recommend that you push the report (having your Introduction/Business Problem section only for now) to your Github repository and submit a link to it."
   ]
  },
  {
   "cell_type": "markdown",
   "metadata": {},
   "source": [
    "## Introduction\n",
    "Finding a place to rent in Toronto is a painful process where rental unit availability can change in an hour. As a result tenants often feel pressured into making quick decisions that they might come to regret. There are a few factors impacting the decision: price, state of the unit, en-suite equipment, building amenities, number of washrooms, square footage, whether the unit is furnished, roommates if any, neighbors, proximity to public transit, garage or other parking facilities, unique factors such as pet ownership to name a few. All the mentioned factors can be grouped into categories: financial, unit-related, location-related, and personal.\n",
    "\n",
    "Most of the choices for the factors can be stated explicitly and are already embedded in the search functionality  of major rental search websites. It's quite simple, really, to input how many bedrooms you as a tenant want, what your budget is, whether you will ever use the condo gym (aka do you care about amenities), do you need the unit furnished, whether you have pets, etc. And you have a list of available units. The question that comes unnoticed is the location. The net cast is either too wide or too narrow, rarely right. Yes, you do know how long you want to commute but what if the perfect neighborhood is just 5 min further? As you might have guessed, we will try to address this issue in the report. We will attempt to build a recommended list of neighborhoods."
   ]
  },
  {
   "cell_type": "markdown",
   "metadata": {},
   "source": [
    "## Target Audience and Impact Analysis\n",
    "Stakeholder groups of this report are the rental market participants in Toronto. This problem is especially acute for tenants and rental brokers. It will also indirectly impact landlords because if solved could potentially decrease the churn rate.\n",
    "\n",
    "#### Tenants\n",
    "Tenants the main target audience of the report. They are the buyers in the market and have to define their preferences before hitting the search button. The first preference is the location. There are two potential variants of the problem: being too general with the location preferences and being too specific.\n",
    "\n",
    "If the tenant is being too general, it might take a lot of time to narrow down or the decision will simply be made on the price, saving the budget but potentially making the life not as enjoyable. But if there is the shortlist of neighborhoods for the tenant to choose from, the trial-and-error process of looking for the right location can be streamlined.\n",
    "\n",
    "On the other hand, if the tenant is too specific, they might miss the perfect unit simply because it is 500 meters further from the designated area. In this case the shortlist might expand the number of quality units for the tenant to choose from.\n",
    "\n",
    "#### Rental brokers\n",
    "The shortlist of neighborhoods for the tenant to choose from can provide a competitive advantage over the market, make the search process more efficient, increase the broker's capacity to service more clients, close more deals as the recommendations will make intuitive sense to the tenant, and finally happier customers that can spread the word through the grapevine increasing the number of prospects and making the business more sustainable in the long run.\n",
    "\n",
    "#### Landlords\n",
    "If the tenants are satisfied with all the factors feeding their decision, they are more likely to rent long-term barring any major life-altering events (marriage, kids, relocation for work). If the unit gets the new market price it might get an additional 1000 CAD/year but at a cost of a hassle of showings, background checks, negotiations, adjustments to the new tenants and a risk of the vacancy for a month which will undercut any benefits of taking the new market price. In addition, happy tenants means less complaints and less hassle long term."
   ]
  },
  {
   "cell_type": "markdown",
   "metadata": {},
   "source": [
    "## Business Problem\n",
    "The business problem tackled in this report is the level of complexity of an implicit but important decision by the tenant of the rental property target location. Many factors can play a role but the decision is very binary: one either enjoys the neighborhood or does not. This project will aim to help answer the tenant's question: will I enjoy this neighborhood by providing a recommended shortlist of neighborhoods to explore. "
   ]
  },
  {
   "cell_type": "markdown",
   "metadata": {},
   "source": [
    "# Describe the Data Used to Solve the Problem"
   ]
  },
  {
   "cell_type": "markdown",
   "metadata": {},
   "source": [
    "## Task\n",
    "Describe the data that you will be using to solve the problem or execute your idea. Remember that you will need to use the Foursquare location data to solve the problem or execute your idea. You can absolutely use other datasets in combination with the Foursquare location data. So make sure that you provide adequate explanation and discussion, with examples, of the data that you will be using, even if it is only Foursquare location data.\n",
    "\n",
    "This submission will eventually become your Data section in your final report. So I recommend that you push the report (having your Data section) to your Github repository and submit a link to it."
   ]
  },
  {
   "cell_type": "markdown",
   "metadata": {},
   "source": [
    "## Data\n",
    "The data used to develop a solution to the issue at hand will be:\n",
    "1. List of neighborhoods in Toronto grouped by first section (A1A) of the postal code scrapped from Wikipedia page and enriched with their respective location coordinates. A description of the dataset and the example of several observations are shown below."
   ]
  },
  {
   "cell_type": "code",
   "execution_count": 11,
   "metadata": {},
   "outputs": [
    {
     "name": "stdout",
     "output_type": "stream",
     "text": [
      "The dataframe has 11 boroughs and 103 neighborhood groups by postal codes.\n"
     ]
    },
    {
     "data": {
      "text/html": [
       "<div>\n",
       "<style scoped>\n",
       "    .dataframe tbody tr th:only-of-type {\n",
       "        vertical-align: middle;\n",
       "    }\n",
       "\n",
       "    .dataframe tbody tr th {\n",
       "        vertical-align: top;\n",
       "    }\n",
       "\n",
       "    .dataframe thead th {\n",
       "        text-align: right;\n",
       "    }\n",
       "</style>\n",
       "<table border=\"1\" class=\"dataframe\">\n",
       "  <thead>\n",
       "    <tr style=\"text-align: right;\">\n",
       "      <th></th>\n",
       "      <th>PostalCode</th>\n",
       "      <th>Borough</th>\n",
       "      <th>Neighborhood</th>\n",
       "      <th>Latitude</th>\n",
       "      <th>Longitude</th>\n",
       "    </tr>\n",
       "  </thead>\n",
       "  <tbody>\n",
       "    <tr>\n",
       "      <th>0</th>\n",
       "      <td>M3A</td>\n",
       "      <td>North York</td>\n",
       "      <td>Parkwoods</td>\n",
       "      <td>43.753259</td>\n",
       "      <td>-79.329656</td>\n",
       "    </tr>\n",
       "    <tr>\n",
       "      <th>1</th>\n",
       "      <td>M4A</td>\n",
       "      <td>North York</td>\n",
       "      <td>Victoria Village</td>\n",
       "      <td>43.725882</td>\n",
       "      <td>-79.315572</td>\n",
       "    </tr>\n",
       "    <tr>\n",
       "      <th>2</th>\n",
       "      <td>M5A</td>\n",
       "      <td>Downtown Toronto</td>\n",
       "      <td>Harbourfront, Regent Park</td>\n",
       "      <td>43.654260</td>\n",
       "      <td>-79.360636</td>\n",
       "    </tr>\n",
       "    <tr>\n",
       "      <th>3</th>\n",
       "      <td>M6A</td>\n",
       "      <td>North York</td>\n",
       "      <td>Lawrence Heights, Lawrence Manor</td>\n",
       "      <td>43.718518</td>\n",
       "      <td>-79.464763</td>\n",
       "    </tr>\n",
       "    <tr>\n",
       "      <th>4</th>\n",
       "      <td>M7A</td>\n",
       "      <td>Queen's Park</td>\n",
       "      <td>Queen's Park</td>\n",
       "      <td>43.662301</td>\n",
       "      <td>-79.389494</td>\n",
       "    </tr>\n",
       "  </tbody>\n",
       "</table>\n",
       "</div>"
      ],
      "text/plain": [
       "  PostalCode           Borough                      Neighborhood   Latitude  \\\n",
       "0        M3A        North York                         Parkwoods  43.753259   \n",
       "1        M4A        North York                  Victoria Village  43.725882   \n",
       "2        M5A  Downtown Toronto         Harbourfront, Regent Park  43.654260   \n",
       "3        M6A        North York  Lawrence Heights, Lawrence Manor  43.718518   \n",
       "4        M7A      Queen's Park                      Queen's Park  43.662301   \n",
       "\n",
       "   Longitude  \n",
       "0 -79.329656  \n",
       "1 -79.315572  \n",
       "2 -79.360636  \n",
       "3 -79.464763  \n",
       "4 -79.389494  "
      ]
     },
     "execution_count": 11,
     "metadata": {},
     "output_type": "execute_result"
    }
   ],
   "source": [
    "#read 'tor.csv' stored from previous notebook into pandas DataFrame 'tor'\n",
    "\n",
    "with open('tor.csv') as tor:\n",
    "    df_tor = pd.read_csv(tor, index_col='Unnamed: 0') #set indexcolumn from csv\n",
    "\n",
    "print('The dataframe has {} boroughs and {} neighborhood groups by postal codes.'.format(\n",
    "        len(df_tor['Borough'].unique()),\n",
    "        df_tor.shape[0]\n",
    "    )\n",
    ")    \n",
    "    \n",
    "df_tor.head()"
   ]
  },
  {
   "cell_type": "markdown",
   "metadata": {},
   "source": [
    "2. List of up to 150 most popular venues in 1500 m vicinity of the center of a given neighborhood group, attained from Foursquare. We will explain how the data was gathered in the methodology section. A description of the dataset and the example of several observations are shown below."
   ]
  },
  {
   "cell_type": "code",
   "execution_count": 12,
   "metadata": {},
   "outputs": [
    {
     "name": "stdout",
     "output_type": "stream",
     "text": [
      "The dataframe has 103 groups of neighborhoods by postal code, 339 unique venue categories, and 6768 venues.\n"
     ]
    },
    {
     "data": {
      "text/html": [
       "<div>\n",
       "<style scoped>\n",
       "    .dataframe tbody tr th:only-of-type {\n",
       "        vertical-align: middle;\n",
       "    }\n",
       "\n",
       "    .dataframe tbody tr th {\n",
       "        vertical-align: top;\n",
       "    }\n",
       "\n",
       "    .dataframe thead th {\n",
       "        text-align: right;\n",
       "    }\n",
       "</style>\n",
       "<table border=\"1\" class=\"dataframe\">\n",
       "  <thead>\n",
       "    <tr style=\"text-align: right;\">\n",
       "      <th></th>\n",
       "      <th>Neighborhood</th>\n",
       "      <th>Neighborhood Latitude</th>\n",
       "      <th>Neighborhood Longitude</th>\n",
       "      <th>Venue</th>\n",
       "      <th>Venue Latitude</th>\n",
       "      <th>Venue Longitude</th>\n",
       "      <th>Venue Category</th>\n",
       "    </tr>\n",
       "  </thead>\n",
       "  <tbody>\n",
       "    <tr>\n",
       "      <th>0</th>\n",
       "      <td>Parkwoods</td>\n",
       "      <td>43.753259</td>\n",
       "      <td>-79.329656</td>\n",
       "      <td>Allwyn's Bakery</td>\n",
       "      <td>43.759840</td>\n",
       "      <td>-79.324719</td>\n",
       "      <td>Caribbean Restaurant</td>\n",
       "    </tr>\n",
       "    <tr>\n",
       "      <th>1</th>\n",
       "      <td>Parkwoods</td>\n",
       "      <td>43.753259</td>\n",
       "      <td>-79.329656</td>\n",
       "      <td>Brookbanks Park</td>\n",
       "      <td>43.751976</td>\n",
       "      <td>-79.332140</td>\n",
       "      <td>Park</td>\n",
       "    </tr>\n",
       "    <tr>\n",
       "      <th>2</th>\n",
       "      <td>Parkwoods</td>\n",
       "      <td>43.753259</td>\n",
       "      <td>-79.329656</td>\n",
       "      <td>Donalda Golf &amp; Country Club</td>\n",
       "      <td>43.752816</td>\n",
       "      <td>-79.342741</td>\n",
       "      <td>Golf Course</td>\n",
       "    </tr>\n",
       "    <tr>\n",
       "      <th>3</th>\n",
       "      <td>Parkwoods</td>\n",
       "      <td>43.753259</td>\n",
       "      <td>-79.329656</td>\n",
       "      <td>Tim Hortons</td>\n",
       "      <td>43.760668</td>\n",
       "      <td>-79.326368</td>\n",
       "      <td>Café</td>\n",
       "    </tr>\n",
       "    <tr>\n",
       "      <th>4</th>\n",
       "      <td>Parkwoods</td>\n",
       "      <td>43.753259</td>\n",
       "      <td>-79.329656</td>\n",
       "      <td>LCBO</td>\n",
       "      <td>43.757774</td>\n",
       "      <td>-79.314257</td>\n",
       "      <td>Liquor Store</td>\n",
       "    </tr>\n",
       "  </tbody>\n",
       "</table>\n",
       "</div>"
      ],
      "text/plain": [
       "  Neighborhood  Neighborhood Latitude  Neighborhood Longitude  \\\n",
       "0    Parkwoods              43.753259              -79.329656   \n",
       "1    Parkwoods              43.753259              -79.329656   \n",
       "2    Parkwoods              43.753259              -79.329656   \n",
       "3    Parkwoods              43.753259              -79.329656   \n",
       "4    Parkwoods              43.753259              -79.329656   \n",
       "\n",
       "                         Venue  Venue Latitude  Venue Longitude  \\\n",
       "0              Allwyn's Bakery       43.759840       -79.324719   \n",
       "1              Brookbanks Park       43.751976       -79.332140   \n",
       "2  Donalda Golf & Country Club       43.752816       -79.342741   \n",
       "3                  Tim Hortons       43.760668       -79.326368   \n",
       "4                         LCBO       43.757774       -79.314257   \n",
       "\n",
       "         Venue Category  \n",
       "0  Caribbean Restaurant  \n",
       "1                  Park  \n",
       "2           Golf Course  \n",
       "3                  Café  \n",
       "4          Liquor Store  "
      ]
     },
     "execution_count": 12,
     "metadata": {},
     "output_type": "execute_result"
    }
   ],
   "source": [
    "#read 'tor_venues.csv' stored from previous notebook into pandas DataFrame 'tor_venues'\n",
    "\n",
    "with open('tor_venues.csv') as tor_v:\n",
    "    tor_venues = pd.read_csv(tor_v, index_col='Unnamed: 0') #set indexcolumn from csv\n",
    "\n",
    "print('The dataframe has {} groups of neighborhoods by postal code, {} unique venue categories, and {} venues.'.format(\n",
    "        len(tor_venues['Neighborhood'].unique()),\n",
    "        len(tor_venues['Venue Category'].unique()),\n",
    "        tor_venues.shape[0]\n",
    "    )\n",
    ")    \n",
    "    \n",
    "tor_venues.head()"
   ]
  },
  {
   "cell_type": "markdown",
   "metadata": {},
   "source": [
    "3. An optional list of neighborhood groups prospective tenant enjoys and does not enjoy for their \"vibe\" (not for commute time or other logistical considerations which can be explicitly defined by the user later on once the shortlist is provided). If this optional list is not provided, then the renter will be given a clustered list of neighborhoods they can explore and chose a cluster of preference.\n",
    "A description of the dataset and the example of several observations are shown below. Data points labeled '1' are neighborhoods user enjoys and '0' are neighborhoods user does not enjoy."
   ]
  },
  {
   "cell_type": "code",
   "execution_count": 14,
   "metadata": {},
   "outputs": [
    {
     "name": "stdout",
     "output_type": "stream",
     "text": [
      "The prospective tenant has defined 5 neighborhood preferences.\n"
     ]
    },
    {
     "data": {
      "text/html": [
       "<div>\n",
       "<style scoped>\n",
       "    .dataframe tbody tr th:only-of-type {\n",
       "        vertical-align: middle;\n",
       "    }\n",
       "\n",
       "    .dataframe tbody tr th {\n",
       "        vertical-align: top;\n",
       "    }\n",
       "\n",
       "    .dataframe thead th {\n",
       "        text-align: right;\n",
       "    }\n",
       "</style>\n",
       "<table border=\"1\" class=\"dataframe\">\n",
       "  <thead>\n",
       "    <tr style=\"text-align: right;\">\n",
       "      <th></th>\n",
       "      <th>PostalCode</th>\n",
       "      <th>Neighborhood</th>\n",
       "      <th>Label</th>\n",
       "    </tr>\n",
       "  </thead>\n",
       "  <tbody>\n",
       "    <tr>\n",
       "      <th>0</th>\n",
       "      <td>M6G</td>\n",
       "      <td>Christie</td>\n",
       "      <td>0</td>\n",
       "    </tr>\n",
       "    <tr>\n",
       "      <th>1</th>\n",
       "      <td>M9P</td>\n",
       "      <td>Westmount</td>\n",
       "      <td>0</td>\n",
       "    </tr>\n",
       "    <tr>\n",
       "      <th>2</th>\n",
       "      <td>M5R</td>\n",
       "      <td>The Annex, North Midtown, Yorkville</td>\n",
       "      <td>1</td>\n",
       "    </tr>\n",
       "    <tr>\n",
       "      <th>3</th>\n",
       "      <td>M5T</td>\n",
       "      <td>Chinatown, Grange Park, Kensington Market</td>\n",
       "      <td>0</td>\n",
       "    </tr>\n",
       "    <tr>\n",
       "      <th>4</th>\n",
       "      <td>M5V</td>\n",
       "      <td>CN Tower, Bathurst Quay, Island airport, Harbo...</td>\n",
       "      <td>1</td>\n",
       "    </tr>\n",
       "  </tbody>\n",
       "</table>\n",
       "</div>"
      ],
      "text/plain": [
       "  PostalCode                                       Neighborhood  Label\n",
       "0        M6G                                           Christie      0\n",
       "1        M9P                                          Westmount      0\n",
       "2        M5R                The Annex, North Midtown, Yorkville      1\n",
       "3        M5T          Chinatown, Grange Park, Kensington Market      0\n",
       "4        M5V  CN Tower, Bathurst Quay, Island airport, Harbo...      1"
      ]
     },
     "execution_count": 14,
     "metadata": {},
     "output_type": "execute_result"
    }
   ],
   "source": [
    "#read 'pref.csv' defined by user\n",
    "\n",
    "with open('pref.csv') as prefer:\n",
    "    pref = pd.read_csv(prefer, index_col='Unnamed: 0') #set indexcolumn from csv\n",
    "\n",
    "print('The prospective tenant has defined {} neighborhood preferences.'.format(\n",
    "        pref.shape[0]\n",
    "    )\n",
    ")    \n",
    "    \n",
    "pref.head()"
   ]
  }
 ],
 "metadata": {
  "kernelspec": {
   "display_name": "Python 3",
   "language": "python",
   "name": "python3"
  },
  "language_info": {
   "codemirror_mode": {
    "name": "ipython",
    "version": 3
   },
   "file_extension": ".py",
   "mimetype": "text/x-python",
   "name": "python",
   "nbconvert_exporter": "python",
   "pygments_lexer": "ipython3",
   "version": "3.6.8"
  }
 },
 "nbformat": 4,
 "nbformat_minor": 2
}
